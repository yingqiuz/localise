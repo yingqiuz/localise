{
 "cells": [
  {
   "cell_type": "code",
   "execution_count": 1,
   "id": "09a7105b",
   "metadata": {},
   "outputs": [],
   "source": [
    "from localise.load import load_features"
   ]
  },
  {
   "cell_type": "code",
   "execution_count": 2,
   "id": "d3e4f74a",
   "metadata": {},
   "outputs": [],
   "source": [
    "from localise.load import load_labels"
   ]
  },
  {
   "cell_type": "code",
   "execution_count": 4,
   "id": "852bfc33",
   "metadata": {},
   "outputs": [],
   "source": [
    "import torch\n",
    "from localise.flatten_forward import FlexibleClassifier"
   ]
  },
  {
   "cell_type": "code",
   "execution_count": 14,
   "id": "e7552fb1",
   "metadata": {},
   "outputs": [],
   "source": [
    "m = FlexibleClassifier(layer=torch.nn.Sequential(torch.nn.Linear(75, 2), torch.nn.ReLU(), torch.nn.Linear(2, 2)), is_crf=True, n_kernels=2)"
   ]
  },
  {
   "cell_type": "code",
   "execution_count": 18,
   "id": "1b502f24",
   "metadata": {},
   "outputs": [
    {
     "data": {
      "text/plain": [
       "tensor([[4.4640e-03, 9.9554e-01],\n",
       "        [9.4148e-04, 9.9906e-01],\n",
       "        [5.3799e-04, 9.9946e-01],\n",
       "        ...,\n",
       "        [6.3642e-04, 9.9936e-01],\n",
       "        [5.8817e-04, 9.9941e-01],\n",
       "        [9.7453e-04, 9.9903e-01]], grad_fn=<SoftmaxBackward0>)"
      ]
     },
     "execution_count": 18,
     "metadata": {},
     "output_type": "execute_result"
    }
   ],
   "source": [
    "m(batch)"
   ]
  },
  {
   "cell_type": "code",
   "execution_count": 8,
   "id": "ab7e5d4f",
   "metadata": {},
   "outputs": [],
   "source": [
    "from glob import glob\n",
    "import os\n",
    "subject='100610'\n",
    "path_to_data='/Users/yqzheng/PycharmProjects/python-localise/tests/test_data'\n",
    "target_list = [os.path.split(f)[-1] for f in sorted(glob(path_to_data+'/'+subject+'/streamlines/left/seeds_to_*'))]\n",
    "\n",
    "batch = load_features(subject=os.path.join(path_to_data,subject), \n",
    "              mask_name='roi/left/tha_small.nii.gz', \n",
    "              target_path='streamlines/left', \n",
    "              target_list=target_list,power=[1], gamma=[0, 0.1])\n"
   ]
  },
  {
   "cell_type": "code",
   "execution_count": 5,
   "id": "3c1d57f7",
   "metadata": {},
   "outputs": [
    {
     "data": {
      "text/plain": [
       "tensor([[1., 0.],\n",
       "        [1., 0.],\n",
       "        [1., 0.],\n",
       "        ...,\n",
       "        [1., 0.],\n",
       "        [1., 0.],\n",
       "        [1., 0.]])"
      ]
     },
     "execution_count": 5,
     "metadata": {},
     "output_type": "execute_result"
    }
   ],
   "source": [
    "y = load_labels(subject=os.path.join(path_to_data,subject), \n",
    "              mask_name='roi/left/tha_small.nii.gz', \n",
    "                label_name='high-quality-labels/left/labels.nii.gz'\n",
    "               )\n",
    "y"
   ]
  },
  {
   "cell_type": "code",
   "execution_count": 25,
   "id": "50187c19",
   "metadata": {},
   "outputs": [
    {
     "data": {
      "text/plain": [
       "<bound method Module.parameters of Sequential(\n",
       "  (0): Linear(in_features=75, out_features=2, bias=True)\n",
       "  (1): Linear(in_features=2, out_features=2, bias=True)\n",
       ")>"
      ]
     },
     "execution_count": 25,
     "metadata": {},
     "output_type": "execute_result"
    }
   ],
   "source": [
    "m = torch.nn.Sequential( torch.nn.Linear(75, 2), torch.nn.Linear(2, 2))\n",
    "m.parameters"
   ]
  },
  {
   "cell_type": "code",
   "execution_count": 4,
   "id": "ff29a041",
   "metadata": {},
   "outputs": [
    {
     "data": {
      "text/plain": [
       "True"
      ]
     },
     "execution_count": 4,
     "metadata": {},
     "output_type": "execute_result"
    }
   ],
   "source": [
    "subject=os.path.join(path_to_data,'100610')\n",
    "mask_name='roi/left/tha_small.nii.gz'\n",
    "label_name='high-quality-labels/left/labels.nii.gz'\n",
    "from localise.load import load_labels\n",
    "labels = load_labels(subject, mask_name, label_name)\n",
    "labels.shape\n",
    "list(labels.shape) == [2, 4142]\n"
   ]
  },
  {
   "cell_type": "code",
   "execution_count": 4,
   "id": "3c83eb0a",
   "metadata": {},
   "outputs": [],
   "source": [
    "from localise.flatten_forward import Affine"
   ]
  },
  {
   "cell_type": "code",
   "execution_count": 7,
   "id": "6515bde2",
   "metadata": {},
   "outputs": [],
   "source": [
    "from localise.flatten_forward import AffineCRF"
   ]
  },
  {
   "cell_type": "code",
   "execution_count": 6,
   "id": "f62a8154",
   "metadata": {},
   "outputs": [
    {
     "data": {
      "text/plain": [
       "torch.Size([75, 4142])"
      ]
     },
     "execution_count": 6,
     "metadata": {},
     "output_type": "execute_result"
    }
   ],
   "source": [
    "batch.X.shape"
   ]
  },
  {
   "cell_type": "code",
   "execution_count": 8,
   "id": "eccaa73d",
   "metadata": {},
   "outputs": [
    {
     "data": {
      "text/plain": [
       "Parameter containing:\n",
       "tensor([[-2.0912],\n",
       "        [ 0.3264]], requires_grad=True)"
      ]
     },
     "execution_count": 8,
     "metadata": {},
     "output_type": "execute_result"
    }
   ],
   "source": [
    "m = AffineCRF(75, 2, 2)\n",
    "m.b"
   ]
  },
  {
   "cell_type": "code",
   "execution_count": 9,
   "id": "41d56b1a",
   "metadata": {},
   "outputs": [
    {
     "data": {
      "text/plain": [
       "tensor([[5.3047, 7.4936, 8.2041,  ..., 6.7160, 7.0804, 6.4152],\n",
       "        [0.7394, 1.0397, 1.0449,  ..., 0.6753, 0.9143, 1.2409]],\n",
       "       grad_fn=<SubBackward0>)"
      ]
     },
     "execution_count": 9,
     "metadata": {},
     "output_type": "execute_result"
    }
   ],
   "source": [
    "m(batch)"
   ]
  },
  {
   "cell_type": "code",
   "execution_count": null,
   "id": "b605589f",
   "metadata": {},
   "outputs": [],
   "source": []
  }
 ],
 "metadata": {
  "kernelspec": {
   "display_name": "Python 3 (ipykernel)",
   "language": "python",
   "name": "python3"
  },
  "language_info": {
   "codemirror_mode": {
    "name": "ipython",
    "version": 3
   },
   "file_extension": ".py",
   "mimetype": "text/x-python",
   "name": "python",
   "nbconvert_exporter": "python",
   "pygments_lexer": "ipython3",
   "version": "3.11.3"
  }
 },
 "nbformat": 4,
 "nbformat_minor": 5
}
